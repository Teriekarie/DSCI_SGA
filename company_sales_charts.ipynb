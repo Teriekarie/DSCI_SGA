{
  "nbformat": 4,
  "nbformat_minor": 0,
  "metadata": {
    "colab": {
      "provenance": [],
      "authorship_tag": "ABX9TyM9tDlOKnOjgy7BP+ESaa8+",
      "include_colab_link": true
    },
    "kernelspec": {
      "name": "python3",
      "display_name": "Python 3"
    },
    "language_info": {
      "name": "python"
    }
  },
  "cells": [
    {
      "cell_type": "markdown",
      "metadata": {
        "id": "view-in-github",
        "colab_type": "text"
      },
      "source": [
        "<a href=\"https://colab.research.google.com/github/Teriekarie/DSCI_SGA/blob/main/company_sales_charts.ipynb\" target=\"_parent\"><img src=\"https://colab.research.google.com/assets/colab-badge.svg\" alt=\"Open In Colab\"/></a>"
      ]
    },
    {
      "cell_type": "code",
      "execution_count": 1,
      "metadata": {
        "colab": {
          "base_uri": "https://localhost:8080/"
        },
        "id": "3iS_q15Y_LbU",
        "outputId": "4311f390-4aa3-4618-dc1b-a27a398912bb"
      },
      "outputs": [
        {
          "output_type": "stream",
          "name": "stdout",
          "text": [
            "Mounted at /content/drive\n"
          ]
        }
      ],
      "source": [
        "from google.colab import drive\n",
        "drive.mount('/content/drive')"
      ]
    },
    {
      "cell_type": "code",
      "source": [
        "#Import Dependencies\n",
        "import numpy as np\n",
        "import pandas as pd\n",
        "import matplotlib\n",
        "from matplotlib import pyplot as plt"
      ],
      "metadata": {
        "id": "8sCybca0AKIe"
      },
      "execution_count": 2,
      "outputs": []
    },
    {
      "cell_type": "code",
      "source": [
        "%cd /content/drive/MyDrive/STUTERN 1.3 ASSIGNMENT/Module_7"
      ],
      "metadata": {
        "colab": {
          "base_uri": "https://localhost:8080/"
        },
        "id": "daIdYBPN_jcl",
        "outputId": "57aa2ed6-45d3-4880-acff-3d8d7e2d2937"
      },
      "execution_count": 4,
      "outputs": [
        {
          "output_type": "stream",
          "name": "stdout",
          "text": [
            "/content/drive/MyDrive/STUTERN 1.3 ASSIGNMENT/Module_7\n"
          ]
        }
      ]
    },
    {
      "cell_type": "code",
      "source": [
        "#Import csv File\n",
        "df = pd.read_csv('/content/drive/MyDrive/STUTERN 1.3 ASSIGNMENT/Module_7/company_sales_data (2).csv')\n",
        "df"
      ],
      "metadata": {
        "colab": {
          "base_uri": "https://localhost:8080/",
          "height": 426
        },
        "id": "U2AM92R0Awpk",
        "outputId": "3a390e0c-8ca0-49f9-f4c0-6f7101a27bf8"
      },
      "execution_count": 7,
      "outputs": [
        {
          "output_type": "execute_result",
          "data": {
            "text/plain": [
              "    month_number  facecream  facewash  toothpaste  bathingsoap  shampoo  \\\n",
              "0              1       2500      1500        5200         9200     1200   \n",
              "1              2       2630      1200        5100         6100     2100   \n",
              "2              3       2140      1340        4550         9550     3550   \n",
              "3              4       3400      1130        5870         8870     1870   \n",
              "4              5       3600      1740        4560         7760     1560   \n",
              "5              6       2760      1555        4890         7490     1890   \n",
              "6              7       2980      1120        4780         8980     1780   \n",
              "7              8       3700      1400        5860         9960     2860   \n",
              "8              9       3540      1780        6100         8100     2100   \n",
              "9             10       1990      1890        8300        10300     2300   \n",
              "10            11       2340      2100        7300        13300     2400   \n",
              "11            12       2900      1760        7400        14400     1800   \n",
              "\n",
              "    moisturizer  total_units  total_profit  \n",
              "0          1500        21100        211000  \n",
              "1          1200        18330        183300  \n",
              "2          1340        22470        224700  \n",
              "3          1130        22270        222700  \n",
              "4          1740        20960        209600  \n",
              "5          1555        20140        201400  \n",
              "6          1120        29550        295500  \n",
              "7          1400        36140        361400  \n",
              "8          1780        23400        234000  \n",
              "9          1890        26670        266700  \n",
              "10         2100        41280        412800  \n",
              "11         1760        30020        300200  "
            ],
            "text/html": [
              "\n",
              "  <div id=\"df-8617b90f-1ce9-4164-a59e-080e0ebf57ea\">\n",
              "    <div class=\"colab-df-container\">\n",
              "      <div>\n",
              "<style scoped>\n",
              "    .dataframe tbody tr th:only-of-type {\n",
              "        vertical-align: middle;\n",
              "    }\n",
              "\n",
              "    .dataframe tbody tr th {\n",
              "        vertical-align: top;\n",
              "    }\n",
              "\n",
              "    .dataframe thead th {\n",
              "        text-align: right;\n",
              "    }\n",
              "</style>\n",
              "<table border=\"1\" class=\"dataframe\">\n",
              "  <thead>\n",
              "    <tr style=\"text-align: right;\">\n",
              "      <th></th>\n",
              "      <th>month_number</th>\n",
              "      <th>facecream</th>\n",
              "      <th>facewash</th>\n",
              "      <th>toothpaste</th>\n",
              "      <th>bathingsoap</th>\n",
              "      <th>shampoo</th>\n",
              "      <th>moisturizer</th>\n",
              "      <th>total_units</th>\n",
              "      <th>total_profit</th>\n",
              "    </tr>\n",
              "  </thead>\n",
              "  <tbody>\n",
              "    <tr>\n",
              "      <th>0</th>\n",
              "      <td>1</td>\n",
              "      <td>2500</td>\n",
              "      <td>1500</td>\n",
              "      <td>5200</td>\n",
              "      <td>9200</td>\n",
              "      <td>1200</td>\n",
              "      <td>1500</td>\n",
              "      <td>21100</td>\n",
              "      <td>211000</td>\n",
              "    </tr>\n",
              "    <tr>\n",
              "      <th>1</th>\n",
              "      <td>2</td>\n",
              "      <td>2630</td>\n",
              "      <td>1200</td>\n",
              "      <td>5100</td>\n",
              "      <td>6100</td>\n",
              "      <td>2100</td>\n",
              "      <td>1200</td>\n",
              "      <td>18330</td>\n",
              "      <td>183300</td>\n",
              "    </tr>\n",
              "    <tr>\n",
              "      <th>2</th>\n",
              "      <td>3</td>\n",
              "      <td>2140</td>\n",
              "      <td>1340</td>\n",
              "      <td>4550</td>\n",
              "      <td>9550</td>\n",
              "      <td>3550</td>\n",
              "      <td>1340</td>\n",
              "      <td>22470</td>\n",
              "      <td>224700</td>\n",
              "    </tr>\n",
              "    <tr>\n",
              "      <th>3</th>\n",
              "      <td>4</td>\n",
              "      <td>3400</td>\n",
              "      <td>1130</td>\n",
              "      <td>5870</td>\n",
              "      <td>8870</td>\n",
              "      <td>1870</td>\n",
              "      <td>1130</td>\n",
              "      <td>22270</td>\n",
              "      <td>222700</td>\n",
              "    </tr>\n",
              "    <tr>\n",
              "      <th>4</th>\n",
              "      <td>5</td>\n",
              "      <td>3600</td>\n",
              "      <td>1740</td>\n",
              "      <td>4560</td>\n",
              "      <td>7760</td>\n",
              "      <td>1560</td>\n",
              "      <td>1740</td>\n",
              "      <td>20960</td>\n",
              "      <td>209600</td>\n",
              "    </tr>\n",
              "    <tr>\n",
              "      <th>5</th>\n",
              "      <td>6</td>\n",
              "      <td>2760</td>\n",
              "      <td>1555</td>\n",
              "      <td>4890</td>\n",
              "      <td>7490</td>\n",
              "      <td>1890</td>\n",
              "      <td>1555</td>\n",
              "      <td>20140</td>\n",
              "      <td>201400</td>\n",
              "    </tr>\n",
              "    <tr>\n",
              "      <th>6</th>\n",
              "      <td>7</td>\n",
              "      <td>2980</td>\n",
              "      <td>1120</td>\n",
              "      <td>4780</td>\n",
              "      <td>8980</td>\n",
              "      <td>1780</td>\n",
              "      <td>1120</td>\n",
              "      <td>29550</td>\n",
              "      <td>295500</td>\n",
              "    </tr>\n",
              "    <tr>\n",
              "      <th>7</th>\n",
              "      <td>8</td>\n",
              "      <td>3700</td>\n",
              "      <td>1400</td>\n",
              "      <td>5860</td>\n",
              "      <td>9960</td>\n",
              "      <td>2860</td>\n",
              "      <td>1400</td>\n",
              "      <td>36140</td>\n",
              "      <td>361400</td>\n",
              "    </tr>\n",
              "    <tr>\n",
              "      <th>8</th>\n",
              "      <td>9</td>\n",
              "      <td>3540</td>\n",
              "      <td>1780</td>\n",
              "      <td>6100</td>\n",
              "      <td>8100</td>\n",
              "      <td>2100</td>\n",
              "      <td>1780</td>\n",
              "      <td>23400</td>\n",
              "      <td>234000</td>\n",
              "    </tr>\n",
              "    <tr>\n",
              "      <th>9</th>\n",
              "      <td>10</td>\n",
              "      <td>1990</td>\n",
              "      <td>1890</td>\n",
              "      <td>8300</td>\n",
              "      <td>10300</td>\n",
              "      <td>2300</td>\n",
              "      <td>1890</td>\n",
              "      <td>26670</td>\n",
              "      <td>266700</td>\n",
              "    </tr>\n",
              "    <tr>\n",
              "      <th>10</th>\n",
              "      <td>11</td>\n",
              "      <td>2340</td>\n",
              "      <td>2100</td>\n",
              "      <td>7300</td>\n",
              "      <td>13300</td>\n",
              "      <td>2400</td>\n",
              "      <td>2100</td>\n",
              "      <td>41280</td>\n",
              "      <td>412800</td>\n",
              "    </tr>\n",
              "    <tr>\n",
              "      <th>11</th>\n",
              "      <td>12</td>\n",
              "      <td>2900</td>\n",
              "      <td>1760</td>\n",
              "      <td>7400</td>\n",
              "      <td>14400</td>\n",
              "      <td>1800</td>\n",
              "      <td>1760</td>\n",
              "      <td>30020</td>\n",
              "      <td>300200</td>\n",
              "    </tr>\n",
              "  </tbody>\n",
              "</table>\n",
              "</div>\n",
              "      <button class=\"colab-df-convert\" onclick=\"convertToInteractive('df-8617b90f-1ce9-4164-a59e-080e0ebf57ea')\"\n",
              "              title=\"Convert this dataframe to an interactive table.\"\n",
              "              style=\"display:none;\">\n",
              "        \n",
              "  <svg xmlns=\"http://www.w3.org/2000/svg\" height=\"24px\"viewBox=\"0 0 24 24\"\n",
              "       width=\"24px\">\n",
              "    <path d=\"M0 0h24v24H0V0z\" fill=\"none\"/>\n",
              "    <path d=\"M18.56 5.44l.94 2.06.94-2.06 2.06-.94-2.06-.94-.94-2.06-.94 2.06-2.06.94zm-11 1L8.5 8.5l.94-2.06 2.06-.94-2.06-.94L8.5 2.5l-.94 2.06-2.06.94zm10 10l.94 2.06.94-2.06 2.06-.94-2.06-.94-.94-2.06-.94 2.06-2.06.94z\"/><path d=\"M17.41 7.96l-1.37-1.37c-.4-.4-.92-.59-1.43-.59-.52 0-1.04.2-1.43.59L10.3 9.45l-7.72 7.72c-.78.78-.78 2.05 0 2.83L4 21.41c.39.39.9.59 1.41.59.51 0 1.02-.2 1.41-.59l7.78-7.78 2.81-2.81c.8-.78.8-2.07 0-2.86zM5.41 20L4 18.59l7.72-7.72 1.47 1.35L5.41 20z\"/>\n",
              "  </svg>\n",
              "      </button>\n",
              "      \n",
              "  <style>\n",
              "    .colab-df-container {\n",
              "      display:flex;\n",
              "      flex-wrap:wrap;\n",
              "      gap: 12px;\n",
              "    }\n",
              "\n",
              "    .colab-df-convert {\n",
              "      background-color: #E8F0FE;\n",
              "      border: none;\n",
              "      border-radius: 50%;\n",
              "      cursor: pointer;\n",
              "      display: none;\n",
              "      fill: #1967D2;\n",
              "      height: 32px;\n",
              "      padding: 0 0 0 0;\n",
              "      width: 32px;\n",
              "    }\n",
              "\n",
              "    .colab-df-convert:hover {\n",
              "      background-color: #E2EBFA;\n",
              "      box-shadow: 0px 1px 2px rgba(60, 64, 67, 0.3), 0px 1px 3px 1px rgba(60, 64, 67, 0.15);\n",
              "      fill: #174EA6;\n",
              "    }\n",
              "\n",
              "    [theme=dark] .colab-df-convert {\n",
              "      background-color: #3B4455;\n",
              "      fill: #D2E3FC;\n",
              "    }\n",
              "\n",
              "    [theme=dark] .colab-df-convert:hover {\n",
              "      background-color: #434B5C;\n",
              "      box-shadow: 0px 1px 3px 1px rgba(0, 0, 0, 0.15);\n",
              "      filter: drop-shadow(0px 1px 2px rgba(0, 0, 0, 0.3));\n",
              "      fill: #FFFFFF;\n",
              "    }\n",
              "  </style>\n",
              "\n",
              "      <script>\n",
              "        const buttonEl =\n",
              "          document.querySelector('#df-8617b90f-1ce9-4164-a59e-080e0ebf57ea button.colab-df-convert');\n",
              "        buttonEl.style.display =\n",
              "          google.colab.kernel.accessAllowed ? 'block' : 'none';\n",
              "\n",
              "        async function convertToInteractive(key) {\n",
              "          const element = document.querySelector('#df-8617b90f-1ce9-4164-a59e-080e0ebf57ea');\n",
              "          const dataTable =\n",
              "            await google.colab.kernel.invokeFunction('convertToInteractive',\n",
              "                                                     [key], {});\n",
              "          if (!dataTable) return;\n",
              "\n",
              "          const docLinkHtml = 'Like what you see? Visit the ' +\n",
              "            '<a target=\"_blank\" href=https://colab.research.google.com/notebooks/data_table.ipynb>data table notebook</a>'\n",
              "            + ' to learn more about interactive tables.';\n",
              "          element.innerHTML = '';\n",
              "          dataTable['output_type'] = 'display_data';\n",
              "          await google.colab.output.renderOutput(dataTable, element);\n",
              "          const docLink = document.createElement('div');\n",
              "          docLink.innerHTML = docLinkHtml;\n",
              "          element.appendChild(docLink);\n",
              "        }\n",
              "      </script>\n",
              "    </div>\n",
              "  </div>\n",
              "  "
            ]
          },
          "metadata": {},
          "execution_count": 7
        }
      ]
    },
    {
      "cell_type": "code",
      "source": [
        "#Compare any two products sales data using a side by side bar chart.\n",
        "# comparing facewash and facecream\n",
        "x_pos = np.arange(len(df.month_number))\n",
        "month = ['Jan', 'Feb', 'Mar', 'April', 'May', 'June', 'July', 'Aug', 'Sept', 'Oct', 'Nov', 'Dec']\n",
        "ax = df.plot.bar(x = 'month_number', y=['facewash', 'facecream'], figsize = (15,10),  width = 0.7, color=['red', 'black'])\n",
        "plt.legend(loc = 'upper right')\n",
        "plt.title(\"Facewash and Facecream Analysis\")\n",
        "plt.xlabel('Months')\n",
        "plt.ylabel(\"Product sales\")\n",
        "plt.xticks(x_pos, month)\n",
        "plt.show()"
      ],
      "metadata": {
        "colab": {
          "base_uri": "https://localhost:8080/",
          "height": 634
        },
        "id": "8r2GS-BmCOSE",
        "outputId": "38d0cf95-7c33-46b0-d2cd-bd33b766699e"
      },
      "execution_count": 12,
      "outputs": [
        {
          "output_type": "display_data",
          "data": {
            "text/plain": [
              "<Figure size 1080x720 with 1 Axes>"
            ],
            "image/png": "[encoded data removed]"
          },
          "metadata": {
            "needs_background": "light"
          }
        }
      ]
    },
    {
      "cell_type": "code",
      "source": [
        "# Calculate the total sales data for the year of  each product and represent it on a pie chart\n",
        "labels = ['FaceCream', 'FaseWash', 'ToothPaste', 'Bathing soap', 'Shampoo', 'Moisturizer']\n",
        "# Determine the sum of the data\n",
        "product_Data   = [df ['facecream'].sum(), df ['facewash'].sum(), df ['toothpaste'].sum(), \n",
        "         df ['bathingsoap'].sum(), df ['shampoo'].sum(), df ['moisturizer'].sum()]\n",
        "plt.axis(\"equal\")\n",
        "explode = (0, 0, 0, 0.1, 0, 0) #This makes the product with the highest value\n",
        "plt.pie(product_Data, labels=labels, explode=explode, autopct='%1.1f%%', colors= ['#ed3572','#77c593','#da68a0', '#1d3c45','#d2601a', '#ffd79d'])\n",
        "plt.legend(loc='lower left')\n",
        "plt.title('Sales_products data')\n",
        "plt.show()"
      ],
      "metadata": {
        "colab": {
          "base_uri": "https://localhost:8080/",
          "height": 264
        },
        "id": "0xTZynZjIBPf",
        "outputId": "7c9f12ad-3f7c-40b2-c9bb-c3147ab92fb4"
      },
      "execution_count": 37,
      "outputs": [
        {
          "output_type": "display_data",
          "data": {
            "text/plain": [
              "<Figure size 432x288 with 1 Axes>"
            ],
            "image/png": "[encoded data removed]"
          },
          "metadata": {}
        }
      ]
    }
  ]
}